{
  "nbformat": 4,
  "nbformat_minor": 0,
  "metadata": {
    "colab": {
      "provenance": []
    },
    "kernelspec": {
      "name": "python3",
      "display_name": "Python 3"
    },
    "language_info": {
      "name": "python"
    }
  },
  "cells": [
    {
      "cell_type": "code",
      "execution_count": null,
      "metadata": {
        "id": "8HerqaLrBnd3"
      },
      "outputs": [],
      "source": [
        "import random\n",
        "film_name=['dhoom','ms dhoni the untold story','pk','welcome','ek tha tiger','mein hu na','phir hera pheri','Drishyam','shershaah','ram setu','vikram vedha']\n",
        "random_film_name=random.choice(film_name)\n",
        "while True:\n",
        "  print('''\\n*******Welcome to The Bollywood Film Guessing Game*******\n",
        "                  1.Play Game\n",
        "                  2.Quit''')\n",
        "  choice = input('\\nEnter Your Choice : ')\n",
        "  if choice == '1':\n",
        "    def bollywood_game(random_film_name):\n",
        "      hint=int(input('Enter the Number of Hints You Want : '))\n",
        "      max_hint = len(random_film_name)//2\n",
        "      if hint < 3:\n",
        "        hint=3\n",
        "      elif hint > max_hint:\n",
        "        hint=max_hint\n",
        "      original_number_list=[]\n",
        "      random_index=random.randint(0,9)\n",
        "      while len(original_number_list) < hint:\n",
        "        random_index=random.randint(0,len(random_film_name)-1)\n",
        "        if random_index not in original_number_list:\n",
        "          original_number_list.append(random_index)\n",
        "      \n",
        "      random_alphabets = [random_film_name[index] for index in original_number_list]\n",
        "      \n",
        "\n",
        "      new_word = ''\n",
        "      for char in random_film_name:\n",
        "        if char == ' ':\n",
        "          new_word += ' '\n",
        "        elif char in random_alphabets:\n",
        "          new_word += char\n",
        "          random_alphabets.remove(char)\n",
        "        \n",
        "        else:\n",
        "          new_word += '-'\n",
        "      print(new_word)\n",
        "      \n",
        "      remaining_guesses = int(input(\"Enter the number of guesses you want: \"))\n",
        "      while remaining_guesses > 0:\n",
        "        guess = input(\"Enter an alphabet or If You Want To Quit The Game Just Press 'q': \")\n",
        "        if guess.lower() =='q':\n",
        "          break\n",
        "        else:\n",
        "          if guess.lower() in random_film_name:\n",
        "            print(\"Correct!\")\n",
        "            new_word_list = list(new_word)\n",
        "            indices = [i for i, x in enumerate(random_film_name) if x == guess]\n",
        "            for index in indices:\n",
        "              new_word_list[index] = guess\n",
        "            new_word = \"\".join(new_word_list)\n",
        "            print(new_word)\n",
        "            if '-' not in new_word:\n",
        "              print(\"You've won the game!\")\n",
        "              break\n",
        "          else:\n",
        "            print(\"Incorrect.\")\n",
        "            remaining_guesses -= 1\n",
        "          print(\"You have\", remaining_guesses, \"guesses remaining.\")\n",
        "      if remaining_guesses == 0:\n",
        "        print(\"You lost the game.\")\n",
        "\n",
        "    bollywood_game(random_film_name)\n",
        "  elif choice == '2':\n",
        "    break"
      ]
    }
  ]
}